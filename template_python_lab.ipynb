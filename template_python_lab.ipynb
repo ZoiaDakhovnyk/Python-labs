{
  "cells": [
    {
      "cell_type": "markdown",
      "metadata": {
        "id": "KOP7kgV5PSl2-webhook"
      },
      "source": [
        "# Python and algorithms"
      ]
    },
    {
      "cell_type": "markdown",
      "metadata": {
        "id": "0R6uyhNyjPMc"
      },
      "source": [
        "##### Сomplete this part of test without using any libs (your code must not contain keyword 'import')\n",
        "> **Important note:** Before submission make sure that you **didn't add or delete any notebook cells**. Otherwise your work may not be accepted by the validator!"
      ]
    },
    {
      "cell_type": "markdown",
      "metadata": {
        "id": "GC_iufBgjPMd"
      },
      "source": [
        "#### 1. Implement function str_to_dict(some_str) which returnes dictionary, where keys are string characters, and values are their quantity in the string\n",
        "\n",
        "<div style=\"text-align: right\">1 point</div>"
      ]
    },
    {
      "cell_type": "code",
      "execution_count": null,
      "metadata": {
        "id": "DDou3xupjPMe"
      },
      "outputs": [],
      "source": [
        "def str_to_dict(some_str):\n",
        "    \"\"\"\n",
        "    :param some_str: str\n",
        "    :return: dict\n",
        "    \"\"\"\n",
        "    # YOUR CODE HERE\n",
        "    dict1={}\n",
        "    for str in some_str:\n",
        "        if str in dict1:\n",
        "          dict1[str.lower()] = dict1[str.lower()] + 1\n",
        "        else:\n",
        "           dict1[str.lower()] = 1\n",
        "    return dict1"
      ]
    },
    {
      "cell_type": "code",
      "execution_count": null,
      "metadata": {
        "id": "FPjc0Ckxsdbl",
        "colab": {
          "base_uri": "https://localhost:8080/"
        },
        "outputId": "e40b3c28-3978-4109-e041-0375cdf76617"
      },
      "outputs": [
        {
          "output_type": "stream",
          "name": "stdout",
          "text": [
            "Str to dict: {'d': 1, 'a': 2, 't': 3, 'r': 2, 'o': 2, '_': 1, 'u': 1, 'n': 1, 'i': 2, 'v': 1, 'e': 1, 's': 1, 'y': 1}\n"
          ]
        }
      ],
      "source": [
        "print('Str to dict:', str_to_dict('dataroot_university'))"
      ]
    },
    {
      "cell_type": "markdown",
      "metadata": {
        "id": "nurux2Btsdbn"
      },
      "source": [
        "Expected Output:\n",
        "<table>\n",
        "  <tr>\n",
        "    <td>Str to dict:</td>\n",
        "    <td> {'d': 1, 'a': 2, 't': 3, 'r': 2, 'o': 2, '_': 1, 'u': 1, 'n': 1, 'i': 2, 'v': 1, 'e': 1, 's': 1, 'y': 1} </td>\n",
        "  </tr>"
      ]
    },
    {
      "cell_type": "markdown",
      "metadata": {
        "id": "ELtxJQQLjPMi"
      },
      "source": [
        "#### 2. Implement function sec_smallest(numbers) which returns second smallest item in the list, without using the built-in sorting methods (your code mustn't contain such words as 'sort', 'sorted')\n",
        "\n",
        "<div style=\"text-align: right\">1 point\n",
        "  "
      ]
    },
    {
      "cell_type": "code",
      "execution_count": null,
      "metadata": {
        "id": "yJVJiK9jjPMj"
      },
      "outputs": [],
      "source": [
        "def sec_smallest(numbers):\n",
        "    \"\"\"\n",
        "    :param numbers: list[int]\n",
        "    :return: int\n",
        "    \"\"\"\n",
        "    # YOUR CODE HERE\n",
        "    min1  = min2 = float('inf')\n",
        "    for number in numbers:\n",
        "        if number < min1:\n",
        "          min2 = min1\n",
        "          min1 = number\n",
        "        elif number < min2 and number != min1:\n",
        "          min2 = number\n",
        "    return min2\n",
        "\n",
        "\n"
      ]
    },
    {
      "cell_type": "code",
      "execution_count": null,
      "metadata": {
        "id": "pg4ry_8Csdbq",
        "colab": {
          "base_uri": "https://localhost:8080/"
        },
        "outputId": "7ff68874-8edb-4c4d-9b19-09a2418dfe1c"
      },
      "outputs": [
        {
          "output_type": "stream",
          "name": "stdout",
          "text": [
            "Sec_smallest:  -2\n"
          ]
        }
      ],
      "source": [
        "print('Sec_smallest: ', sec_smallest([1, 2, -8, -8, -2, 0]))"
      ]
    },
    {
      "cell_type": "markdown",
      "metadata": {
        "id": "qVlYH9axsdbs"
      },
      "source": [
        "Expected Output:\n",
        "<table>\n",
        "  <tr>\n",
        "    <td>Sec_smallest:</td>\n",
        "    <td> -2 </td>\n",
        "  </tr>"
      ]
    },
    {
      "cell_type": "markdown",
      "metadata": {
        "id": "tzgLZ6VijPMo"
      },
      "source": [
        "#### 3. Implement function prime_nums(n) that returns list of numbers which  are simple and < n\n",
        "\n",
        "<div style=\"text-align: right\">1 point</div>"
      ]
    },
    {
      "cell_type": "code",
      "execution_count": null,
      "metadata": {
        "id": "jvVD9N32jPMp"
      },
      "outputs": [],
      "source": [
        "def prime_nums(n):\n",
        "    \"\"\"\n",
        "    :param n: int\n",
        "    :return: list[int]\n",
        "    \"\"\"\n",
        "    # YOUR CODE HERE\n",
        "    list1 = [i for i in range(2,n)]\n",
        "    list2 = []\n",
        "    flag = False\n",
        "    for l in list1:\n",
        "      flag = False\n",
        "      for g in range(2, l):\n",
        "        if (l % g) == 0:\n",
        "          flag = True\n",
        "          break\n",
        "      if flag == False:\n",
        "        list2.append(l)\n",
        "    return list2\n",
        "\n"
      ]
    },
    {
      "cell_type": "code",
      "execution_count": null,
      "metadata": {
        "id": "Zf9DMkN9sdbw",
        "colab": {
          "base_uri": "https://localhost:8080/"
        },
        "outputId": "b70acb93-7e68-4c64-bd02-6520c4f18e71"
      },
      "outputs": [
        {
          "output_type": "stream",
          "name": "stdout",
          "text": [
            "Prime numbers:  [2, 3, 5, 7, 11, 13, 17, 19, 23, 29]\n"
          ]
        }
      ],
      "source": [
        "print('Prime numbers: ', prime_nums(30))"
      ]
    },
    {
      "cell_type": "markdown",
      "metadata": {
        "id": "pYutFqaAsdbz"
      },
      "source": [
        "Expected Output:\n",
        "<table>\n",
        "  <tr>\n",
        "    <td>Prime numbers:</td>\n",
        "    <td>[2, 3, 5, 7, 11, 13, 17, 19, 23, 29]</td>\n",
        "  </tr>"
      ]
    },
    {
      "cell_type": "markdown",
      "metadata": {
        "id": "BZYlq4RtzTCJ"
      },
      "source": [
        "#### 4. Implement function max_sum_index(tuples), which returnes index of tuple in the list with maximum sum of elements\n",
        "\n",
        "<div style=\"text-align: right\">1 point</div>"
      ]
    },
    {
      "cell_type": "code",
      "execution_count": null,
      "metadata": {
        "id": "nSoHCzrZzTCK"
      },
      "outputs": [],
      "source": [
        "def max_sum_index(tuples):\n",
        "    '''\n",
        "    :param tuples: list[tuple]\n",
        "    :return: int\n",
        "    '''\n",
        "    # YOUR CODE HERE\n",
        "    list1 = []\n",
        "    for t in tuples:\n",
        "      list1.append(sum(t))\n",
        "    return list1.index(max(list1))\n"
      ]
    },
    {
      "cell_type": "code",
      "execution_count": null,
      "metadata": {
        "id": "kDgUQzSjzTCM",
        "colab": {
          "base_uri": "https://localhost:8080/"
        },
        "outputId": "7d8da293-6729-4782-c9a3-7df85a975045"
      },
      "outputs": [
        {
          "output_type": "stream",
          "name": "stdout",
          "text": [
            "Index:  1\n",
            "Index:  0\n"
          ]
        }
      ],
      "source": [
        "print('Index: ', max_sum_index([(10, 20, 1, 2), (51, 32), (30, 25, 5)]))\n",
        "print('Index: ', max_sum_index([(47, 22, 11), (23, 17)]))"
      ]
    },
    {
      "cell_type": "markdown",
      "metadata": {
        "id": "RFxkqxeAzTCO"
      },
      "source": [
        "Expected Output:\n",
        "<table>\n",
        "  <tr>\n",
        "    <td>Index:</td>\n",
        "    <td> 1 </td>\n",
        "  </tr>\n",
        "  <tr>\n",
        "    <td>Index:</td>\n",
        "    <td> 0 </td>\n",
        "  </tr>\n",
        "</table>"
      ]
    },
    {
      "cell_type": "markdown",
      "metadata": {
        "id": "dgWLVbybzTCO"
      },
      "source": [
        "#### 5. Implement function gcd(x, y), which returns the greatest common divisor of n and m\n",
        "<div style=\"text-align: right\">1 point</div>"
      ]
    },
    {
      "cell_type": "code",
      "execution_count": null,
      "metadata": {
        "id": "NivXXE8ZzTCO"
      },
      "outputs": [],
      "source": [
        "def gcd(x, y):\n",
        "    '''\n",
        "    :params m,n: int\n",
        "    :return: int\n",
        "    '''\n",
        "    # YOUR CODE HERE\n",
        "    divisor = min(x, y)\n",
        "    while divisor > 0:\n",
        "      if x % divisor == 0 and y % divisor == 0:\n",
        "        break\n",
        "      divisor -= 1\n",
        "    return divisor"
      ]
    },
    {
      "cell_type": "code",
      "execution_count": null,
      "metadata": {
        "id": "4foTg3J2zTCQ",
        "colab": {
          "base_uri": "https://localhost:8080/"
        },
        "outputId": "358b28c0-5dc4-44c1-88fc-13b755712b5e"
      },
      "outputs": [
        {
          "output_type": "stream",
          "name": "stdout",
          "text": [
            "GCD:  20\n"
          ]
        }
      ],
      "source": [
        "print('GCD: ', gcd(160, 180))"
      ]
    },
    {
      "cell_type": "markdown",
      "metadata": {
        "id": "Sqnrn37NzTCU"
      },
      "source": [
        "Expected Output:\n",
        "<table>\n",
        "  <tr>\n",
        "    <td>GCD:</td>\n",
        "    <td> 20 </td>\n",
        "  </tr>"
      ]
    },
    {
      "cell_type": "markdown",
      "metadata": {
        "id": "7taKAqDEzTCU"
      },
      "source": [
        "#### 6. Implement recursive sum of the list\n",
        "<div style=\"text-align: right\">1 point</div>"
      ]
    },
    {
      "cell_type": "code",
      "execution_count": null,
      "metadata": {
        "id": "OZ88SyEPzTCV"
      },
      "outputs": [],
      "source": [
        "def recursive_list_sum(data_list):\n",
        "    \"\"\"\n",
        "    :param data_list: list[list]\n",
        "    \"\"\"\n",
        "    # YOUR CODE HERE\n",
        "    if len(data_list) == 0:\n",
        "      return 0\n",
        "    elif type(data_list[0]) is list:\n",
        "      return recursive_list_sum(data_list[0]) + recursive_list_sum(data_list[1:])\n",
        "    else:\n",
        "      return data_list[0] + recursive_list_sum(data_list[1:])\n"
      ]
    },
    {
      "cell_type": "code",
      "execution_count": null,
      "metadata": {
        "id": "xBqGJR2MzTCW",
        "colab": {
          "base_uri": "https://localhost:8080/"
        },
        "outputId": "af5a2fc0-8747-49c8-bac1-5c91aec99efa"
      },
      "outputs": [
        {
          "output_type": "stream",
          "name": "stdout",
          "text": [
            "The sum of a list is  55\n"
          ]
        }
      ],
      "source": [
        "print('The sum of a list is ', recursive_list_sum([1, 2, [3, 4], [5, 6], [7, 8, 9, [10]]]))"
      ]
    },
    {
      "cell_type": "markdown",
      "metadata": {
        "id": "-B7d97oszTCY"
      },
      "source": [
        "Expected Output:\n",
        "<table>\n",
        "  <tr>\n",
        "    <td>The sum of a list is 55</td>\n",
        "  </tr>"
      ]
    },
    {
      "cell_type": "markdown",
      "metadata": {
        "id": "IwBGvz-UzTCZ"
      },
      "source": [
        "#### 7. Implement decorator which returns function signature and it's return value\n",
        "<div style=\"text-align: right\">1 point</div>"
      ]
    },
    {
      "cell_type": "code",
      "execution_count": 9,
      "metadata": {
        "id": "VqlkRz0szTCZ"
      },
      "outputs": [],
      "source": [
        "def debug(func):\n",
        "    \"\"\"\n",
        "    :param func: function\n",
        "    \"\"\"\n",
        "    # YOUR CODE HERE\n",
        "    def wrapper(*args, **kwargs):\n",
        "        args_str = ', '.join(map(repr, args))\n",
        "        kwargs_str = ', '.join(f'{k}={v!r}' for k, v in kwargs.items())\n",
        "        if args_str and kwargs_str:\n",
        "            call_str = f\"{func.__name__}({args_str}, {kwargs_str})\"\n",
        "        elif args_str:\n",
        "            call_str = f\"{func.__name__}({args_str})\"\n",
        "        elif kwargs_str:\n",
        "            call_str = f\"{func.__name__}({kwargs_str})\"\n",
        "        else:\n",
        "            call_str = f\"{func.__name__}()\"\n",
        "\n",
        "        result = func(*args, **kwargs)\n",
        "        return f\"{call_str} was called and returned {result}\"\n",
        "    return wrapper\n",
        "\n"
      ]
    },
    {
      "cell_type": "code",
      "execution_count": 10,
      "metadata": {
        "id": "rCRTAmeizTCb",
        "colab": {
          "base_uri": "https://localhost:8080/"
        },
        "outputId": "0b0b7312-ab39-4a52-ef00-625112327e69"
      },
      "outputs": [
        {
          "output_type": "stream",
          "name": "stdout",
          "text": [
            "add(3, 4) was called and returned 7\n",
            "sub(3) was called and returned -97\n",
            "sub(3, 4) was called and returned -1\n"
          ]
        }
      ],
      "source": [
        "@debug\n",
        "def add(a, b):\n",
        "    return a + b\n",
        "\n",
        "@debug\n",
        "def sub(a, b=100):\n",
        "    return a - b\n",
        "\n",
        "print(add(3, 4))\n",
        "print(sub(3))\n",
        "print(sub(3,4))"
      ]
    },
    {
      "cell_type": "markdown",
      "metadata": {
        "id": "dagwtSWmzTCd"
      },
      "source": [
        "Expected Output:\n",
        "<table>\n",
        "  <tr>\n",
        "    <td>add(3, 4) was called and returned 7</td>\n",
        "  </tr>\n",
        "  <tr>\n",
        "    <td>sub(3) was called and returned -97</td>\n",
        "  </tr>\n",
        "  <tr>\n",
        "    <td>sub(3, 4) was called and returned -1</td>\n",
        "  <tr>"
      ]
    },
    {
      "cell_type": "markdown",
      "metadata": {
        "id": "p96mEq8vjPMr"
      },
      "source": [
        "#### 8. Implement class Conv, that contains method to_roman(self, n), which converts decimal numbers to Roman numerals\n",
        "\n",
        "<div style=\"text-align: right\">2 points</div>"
      ]
    },
    {
      "cell_type": "code",
      "execution_count": null,
      "metadata": {
        "id": "weYiaNWojPMs"
      },
      "outputs": [],
      "source": [
        "class Conv:\n",
        "    def __init__(self):\n",
        "        self.val = [\n",
        "            1000, 900, 500, 400,\n",
        "            100, 90, 50, 40,\n",
        "            10, 9, 5, 4, 1\n",
        "        ]\n",
        "\n",
        "        self.syb = [\n",
        "            'M', 'CM', 'D', 'CD',\n",
        "            'C', 'XC', 'L', 'XL',\n",
        "            'X', 'IX', 'V', 'IV',\n",
        "            'I'\n",
        "        ]\n",
        "\n",
        "    def to_roman(self, num):\n",
        "        \"\"\"\n",
        "        :param self:\n",
        "        :param n: int\n",
        "        :return: str\n",
        "        \"\"\"\n",
        "        # YOUR CODE HERE\n",
        "        i = 0\n",
        "        result = \"\"\n",
        "        while num:\n",
        "          div = num // self.val[i]\n",
        "          num %= self.val[i]\n",
        "\n",
        "          while div:\n",
        "            result += self.syb[i]\n",
        "            div -= 1\n",
        "          i += 1\n",
        "        return result"
      ]
    },
    {
      "cell_type": "code",
      "execution_count": null,
      "metadata": {
        "id": "NdffBhZesdb6",
        "colab": {
          "base_uri": "https://localhost:8080/"
        },
        "outputId": "4d584c28-c54a-4d8b-9620-77c8f340da4d"
      },
      "outputs": [
        {
          "output_type": "stream",
          "name": "stdout",
          "text": [
            "Converted:  XLIV\n"
          ]
        }
      ],
      "source": [
        "print('Converted: ', Conv().to_roman(44))"
      ]
    },
    {
      "cell_type": "markdown",
      "metadata": {
        "id": "lF6Acd9gsdb8"
      },
      "source": [
        "Expected Output:\n",
        "<table>\n",
        "  <tr>\n",
        "    <td>Converted:</td>\n",
        "    <td>XLIV</td>\n",
        "  </tr>"
      ]
    },
    {
      "cell_type": "markdown",
      "metadata": {
        "id": "kphmMZ7JjPMv"
      },
      "source": [
        "#### 9. Implement class CombinationsList, that contains method get_combinations(self, my_list), which returns all combinations of elements of given list, including empty element. Order of elements doesn't matter\n",
        "<div style=\"text-align: right\">3 points</div>"
      ]
    },
    {
      "cell_type": "code",
      "execution_count": 7,
      "metadata": {
        "id": "YRLNrVppjPMw"
      },
      "outputs": [],
      "source": [
        "class CombinationsList:\n",
        "    @staticmethod\n",
        "    def get_combinations(my_list):\n",
        "        \"\"\"\n",
        "        :param self:\n",
        "        :param my_list: list\n",
        "        :return: list[list]\n",
        "        \"\"\"\n",
        "        # YOUR CODE HERE\n",
        "        def generate_combinations_helper(current_combination, remaining_elements, index):\n",
        "            if index == len(remaining_elements):\n",
        "                combinations.append(current_combination)\n",
        "                return\n",
        "\n",
        "            # Exclude the current element from the combination\n",
        "            generate_combinations_helper(current_combination, remaining_elements, index + 1)\n",
        "\n",
        "            # Include the current element in the combination\n",
        "            new_combination = current_combination + [remaining_elements[index]]\n",
        "            generate_combinations_helper(new_combination, remaining_elements, index + 1)\n",
        "\n",
        "        combinations = []\n",
        "        generate_combinations_helper([], my_list, 0)\n",
        "        return combinations\n",
        "\n",
        "\n",
        "\n",
        "\n",
        "\n"
      ]
    },
    {
      "cell_type": "code",
      "execution_count": 8,
      "metadata": {
        "id": "8IVUwFllsdb_",
        "colab": {
          "base_uri": "https://localhost:8080/"
        },
        "outputId": "638f7153-7724-477e-98e6-eef896f80cd9"
      },
      "outputs": [
        {
          "output_type": "stream",
          "name": "stdout",
          "text": [
            "Combinations:  [[], [5], ['a'], ['a', 5], [2], [2, 5], [2, 'a'], [2, 'a', 5], [1], [1, 5], [1, 'a'], [1, 'a', 5], [1, 2], [1, 2, 5], [1, 2, 'a'], [1, 2, 'a', 5]]\n"
          ]
        }
      ],
      "source": [
        "print('Combinations: ', CombinationsList().get_combinations([1, 2, 'a', 5]))"
      ]
    },
    {
      "cell_type": "markdown",
      "metadata": {
        "id": "Etp9QRL-sdcC"
      },
      "source": [
        "Expected Output:\n",
        "<table>\n",
        "  <tr>\n",
        "    <td>Combinations:</td>\n",
        "    <td>[[], [1], [2], ['a'], [5], [1, 2], [1, 'a'], [1, 5], [2, 'a'], [2, 5], ['a', 5], [1, 2, 'a'], [1, 2, 5], [1, 'a', 5], [2, 'a', 5], [1, 2, 'a', 5]]</td>\n",
        "  </tr>"
      ]
    },
    {
      "cell_type": "markdown",
      "metadata": {
        "id": "DMAxsP5ezTCn"
      },
      "source": [
        "#### 10. Create base class <code>Rocket</code> and it's subclass <code>Shuttle</code>. The parent class contains methods <code>getMission()</code>, <code>addMission()</code> and <code>getName()</code>. The subclass <code>Shuttle</code> contains method <code>getDescription()</code>. Notice that we have not defined <code>getName()</code>, <code>getMission()</code>, <code>addMission()</code> in the <code>Shuttle</code> class but we are still able to access them, because the class <code>Shuttle</code> inherits them from the <code>Rocket</code> class. Use <code>super()</code> method to have ability to call those methods of the base class.\n",
        "<div style=\"text-align: right\">3 points</div>"
      ]
    },
    {
      "cell_type": "code",
      "execution_count": 7,
      "metadata": {
        "id": "0n3UwConzTCn"
      },
      "outputs": [],
      "source": [
        "class Rocket:\n",
        "\n",
        "    def __init__(self, name, mission):\n",
        "        \"\"\"\n",
        "        :param name: str\n",
        "        :param mission: str or list\n",
        "        \"\"\"\n",
        "        # attributes are private to class Rocket\n",
        "        self.__name = name\n",
        "        self.__mission = mission\n",
        "\n",
        "    def getMission(self):\n",
        "        \"\"\"\n",
        "        : return str or list\n",
        "        \"\"\"\n",
        "        # YOUR CODE HERE\n",
        "        return self.__mission\n",
        "\n",
        "\n",
        "    def addMission(self, mission):\n",
        "        # procedure method which adds a new mission. There can be one (str) or multiple (list) existing missions\n",
        "        \"\"\"\n",
        "        : param mission: str\n",
        "        \"\"\"\n",
        "        # YOUR CODE HERE\n",
        "        if isinstance(self.__mission, list):\n",
        "          self.__mission.append(mission)\n",
        "        else:\n",
        "          self.__mission = [self.__mission, mission]\n",
        "\n",
        "\n",
        "    def getName(self):\n",
        "        \"\"\"\n",
        "        : return str\n",
        "        \"\"\"\n",
        "        # YOUR CODE HERE\n",
        "        return self.__name\n",
        "\n",
        "\n",
        "class Shuttle(Rocket):\n",
        "\n",
        "    def __init__(self, name, mission, model):\n",
        "        # call parent constructor to set name and mission\n",
        "        \"\"\"\n",
        "        :param name: str\n",
        "        :param mission: str or list\n",
        "        : param model: str\n",
        "        \"\"\"\n",
        "        # YOUR CODE HERE\n",
        "        super().__init__(name, mission)\n",
        "        self.__model = model\n",
        "\n",
        "\n",
        "\n",
        "\n",
        "    def getDescription(self):\n",
        "        return f'Name: {self.getName()}\\nModel: {self.__model}\\nMissions: {str(self.getMission())}'"
      ]
    },
    {
      "cell_type": "code",
      "execution_count": 8,
      "metadata": {
        "id": "H7qmbnhgzTCo",
        "colab": {
          "base_uri": "https://localhost:8080/"
        },
        "outputId": "0c1bdb83-de5e-4fae-d1c2-af0359e17047"
      },
      "outputs": [
        {
          "output_type": "stream",
          "name": "stdout",
          "text": [
            "Name: Crew Dragon\n",
            "Model: V2\n",
            "Missions: Dragon 2 pad abort test \n",
            "\n",
            "Name: Crew Dragon\n",
            "Model: V2\n",
            "Missions: ['Dragon 2 pad abort test', 'Dragon 2 in-flight abort test']\n"
          ]
        }
      ],
      "source": [
        "dragon = Shuttle(\"Crew Dragon\", \"Dragon 2 pad abort test\", \"V2\")\n",
        "print(dragon.getDescription(), '\\n')\n",
        "dragon.addMission('Dragon 2 in-flight abort test')\n",
        "print(dragon.getDescription())"
      ]
    },
    {
      "cell_type": "markdown",
      "metadata": {
        "id": "CbRcyQwXzTCq"
      },
      "source": [
        "Expected Output:\n",
        "\n",
        "                Name: Crew Dragon\n",
        "                Model: V2\n",
        "                Missions: Dragon 2 pad abort test\n",
        "                \n",
        "                Name: Crew Dragon\n",
        "                Model: V2\n",
        "                Missions: ['Dragon 2 pad abort test', 'Dragon 2 in-flight abort test']\n",
        "\n"
      ]
    },
    {
      "cell_type": "markdown",
      "metadata": {
        "id": "fQ_4LgUosIeL"
      },
      "source": [
        "##### Python lab Done!"
      ]
    },
    {
      "cell_type": "markdown",
      "metadata": {
        "id": "8N8FmZAIsIeL"
      },
      "source": [
        "##### Make sure that you didn't add or delete any notebook cells. Otherwise your work may not be accepted by the validator!"
      ]
    }
  ],
  "metadata": {
    "colab": {
      "provenance": []
    },
    "kernelspec": {
      "display_name": "Python 3",
      "language": "python",
      "name": "python3"
    },
    "language_info": {
      "codemirror_mode": {
        "name": "ipython",
        "version": 3
      },
      "file_extension": ".py",
      "mimetype": "text/x-python",
      "name": "python",
      "nbconvert_exporter": "python",
      "pygments_lexer": "ipython3",
      "version": "3.7.7"
    }
  },
  "nbformat": 4,
  "nbformat_minor": 0
}